{
 "cells": [
  {
   "cell_type": "code",
   "execution_count": null,
   "id": "e9839d9a",
   "metadata": {},
   "outputs": [],
   "source": [
    "import sys\n",
    "import os\n",
    "\n",
    "import plotly.express as px\n",
    "import plotly.offline as pyo\n",
    "\n",
    "import numpy as np\n",
    "import pandas as pd\n",
    "pd.options.plotting.backend = \"plotly\"\n",
    "\n"
   ]
  },
  {
   "cell_type": "code",
   "execution_count": null,
   "id": "d36a3362",
   "metadata": {},
   "outputs": [],
   "source": [
    "from datetime import datetime\n",
    "import data_config\n",
    "\n",
    "# read processed sample data\n",
    "sampled = pd.read_pickle(data_config.current_sample_sf)\n",
    "print(sampled.columns)\n",
    "\n",
    "color_map_l = data_config.color_map_l\n",
    "print(color_map_l)\n",
    "\n",
    "sampled['wk'] = sampled['created_at'].apply(lambda x: datetime.strptime(x, '%a %b %d %H:%M:%S %z %Y').isocalendar()[1])\n",
    "print(set(sampled['wk']))"
   ]
  },
  {
   "cell_type": "code",
   "execution_count": null,
   "id": "8aa3be52",
   "metadata": {},
   "outputs": [],
   "source": [
    "def plot_frame(data, color_map, color_column=\"time_color\",):\n",
    "    pyo.init_notebook_mode()\n",
    "    \n",
    "    fig = px.scatter(\n",
    "        data,\n",
    "        x=\"x\",\n",
    "        y=\"y\",\n",
    "        color=color_column,\n",
    "        color_discrete_map=color_map,\n",
    "        opacity=1,\n",
    "        custom_data=['hover_text', 'favorite_count', 'retweet_count', 'id', 'label', 'verified'],\n",
    "        size=\"size\",\n",
    "#         symbol='verified', \n",
    "#         symbol_sequence=['circle','x'],\n",
    "#         title=\"Semantic Clustering of Monkeypox Discussion on Twitter\",\n",
    "    )\n",
    "\n",
    "    fig.layout.showlegend = False\n",
    "\n",
    "    fig.update_traces(\n",
    "        hovertemplate='%{customdata[0]}<br><br>'\n",
    "            +'Likes: %{customdata[1]}   Retweets: %{customdata[2]}<br>'\n",
    "            +'Label: %{customdata[5]}<br>'\n",
    "            +'TweetID: %{customdata[4]}<br>'\n",
    "            +'Verified User: %{customdata[5]}'\n",
    "    )\n",
    "\n",
    "    fig.layout.showlegend = False\n",
    "\n",
    "    fig.update_layout(\n",
    "        autosize=False,\n",
    "        width=900,\n",
    "        height=900,\n",
    "    )\n",
    "    \n",
    "    fig.update_layout({\n",
    "        'plot_bgcolor': 'rgba(255, 255, 255, 1)',\n",
    "        'paper_bgcolor': 'rgba(255, 255, 255, 1)',\n",
    "    })\n",
    "\n",
    "    fig.update(layout_coloraxis_showscale=False)\n",
    "    fig.update_yaxes(title='y', visible=False)\n",
    "    fig.update_xaxes(title='x', visible=False)\n",
    "\n",
    "    fig.show()\n",
    "    \n",
    "    return fig"
   ]
  },
  {
   "cell_type": "markdown",
   "id": "4ea6ab68",
   "metadata": {},
   "source": [
    "## Mapping over time"
   ]
  },
  {
   "cell_type": "code",
   "execution_count": null,
   "id": "e465b8e9",
   "metadata": {},
   "outputs": [],
   "source": [
    "categories = set(sampled['k_means_category'])\n",
    "col = px.colors.qualitative.Plotly[:len(categories)]\n",
    "gray = '#BAB0AC'\n",
    "\n",
    "for wk in [18, 22, 26, 29]:\n",
    "    on = dict(zip([\"{}_{}\".format(wk, cat) for cat in categories],  col))\n",
    "    for wk_off in set(sampled['wk']) - {wk}:\n",
    "        off = {\"{}_{}\".format(wk_off, cat):gray for cat in categories}\n",
    "        on.update(off)\n",
    "    print(wk)\n",
    "    plot_frame(sampled, on)"
   ]
  },
  {
   "cell_type": "code",
   "execution_count": null,
   "id": "a97f55aa",
   "metadata": {
    "scrolled": true
   },
   "outputs": [],
   "source": [
    "set(sampled['wk'])"
   ]
  },
  {
   "cell_type": "markdown",
   "id": "4cd74322",
   "metadata": {},
   "source": [
    "## Cumulative mapping over time"
   ]
  },
  {
   "cell_type": "code",
   "execution_count": null,
   "id": "875a0b63",
   "metadata": {
    "scrolled": false
   },
   "outputs": [],
   "source": [
    "# Generate time mapping with inactive points set as gray\n",
    "categories = set(sampled['k_means_category'])\n",
    "col = px.colors.qualitative.Plotly[:len(categories)]\n",
    "gray = '#BAB0AC'\n",
    "\n",
    "on = {}\n",
    "for wk_off in set(sampled['wk']):\n",
    "    off = {\"{}_{}\".format(wk_off, cat):gray for cat in categories}\n",
    "    on.update(off)\n",
    "\n",
    "    \n",
    "for wk in set(sampled['wk']):\n",
    "    new = dict(zip([\"{}_{}\".format(wk, cat) for cat in categories],  col))\n",
    "    on.update(new)\n",
    "    \n",
    "    if wk in [20, 23, 26, 28, 29]:\n",
    "        print(wk)\n",
    "        print(datetime.strptime('2022 ' + str(wk) + ' 1', '%G %V %u'))\n",
    "        plot_frame(sampled, on)"
   ]
  },
  {
   "cell_type": "code",
   "execution_count": null,
   "id": "4ed81d5c",
   "metadata": {
    "scrolled": true
   },
   "outputs": [],
   "source": [
    "for wk in [20, 23, 25, 27]:\n",
    "    print(datetime.strptime('2022 ' + str(wk) + ' 7', '%G %V %u'))\n",
    "    fig = plot_frame(sampled[sampled['wk'] <= wk], color_map_l, color_column='label')\n",
    "    fig.write_image(\"../results/final/wk_{}.svg\".format(wk))"
   ]
  },
  {
   "cell_type": "code",
   "execution_count": null,
   "id": "782e0817",
   "metadata": {
    "scrolled": false
   },
   "outputs": [],
   "source": [
    "for wk in set(sampled['wk']):\n",
    "        print(wk)\n",
    "        print(datetime.strptime('2022 ' + str(wk) + ' 7', '%G %V %u').strftime(\"%B %d, %Y\"))"
   ]
  },
  {
   "cell_type": "code",
   "execution_count": null,
   "id": "409aa46d",
   "metadata": {},
   "outputs": [],
   "source": []
  }
 ],
 "metadata": {
  "kernelspec": {
   "display_name": "Python 3",
   "language": "python",
   "name": "python3"
  },
  "language_info": {
   "codemirror_mode": {
    "name": "ipython",
    "version": 3
   },
   "file_extension": ".py",
   "mimetype": "text/x-python",
   "name": "python",
   "nbconvert_exporter": "python",
   "pygments_lexer": "ipython3",
   "version": "3.7.10"
  }
 },
 "nbformat": 4,
 "nbformat_minor": 5
}
