{
 "cells": [
  {
   "cell_type": "markdown",
   "id": "9e82008a",
   "metadata": {},
   "source": [
    "Read original tweet dataset:"
   ]
  },
  {
   "cell_type": "code",
   "execution_count": 1,
   "id": "10a40956",
   "metadata": {},
   "outputs": [
    {
     "name": "stdout",
     "output_type": "stream",
     "text": [
      "230163 tweets read\n"
     ]
    }
   ],
   "source": [
    "import json\n",
    "import bz2\n",
    "\n",
    "sfile = '../data/monkeypox_tweets_081222.bz2'\n",
    "    \n",
    "# Open bz2 and read JSON to test\n",
    "with bz2.BZ2File(sfile, 'r') as f:\n",
    "    tweets = []\n",
    "    for line in f.readlines():\n",
    "        tweet = json.loads(line.decode().strip(\"\\n\"))\n",
    "        tweets = tweets + tweet\n",
    "\n",
    "print(len(tweets), \"tweets read\")"
   ]
  },
  {
   "cell_type": "code",
   "execution_count": 153,
   "id": "7d31ad2b",
   "metadata": {
    "scrolled": true
   },
   "outputs": [
    {
     "name": "stdout",
     "output_type": "stream",
     "text": [
      "19695\n"
     ]
    }
   ],
   "source": [
    "import re\n",
    "import pandas as pd\n",
    "\n",
    "# Remove non-english tweets\n",
    "tweets = pd.DataFrame(tweets)\n",
    "tweets = tweets.loc[tweets['lang'] == 'en']\n",
    "\n",
    "# Remove tweets that don't contain keywords: \"monkey pox\", \"monkeypox\", \"moneypox\"\n",
    "query_terms = [\"monkey pox\", \"monkeypox\", \"moneypox\"]\n",
    "pattern = '|'.join(query_terms)\n",
    "tweets = tweets[tweets['full_text'].str.contains(pattern, case=False)]\n",
    "\n",
    "# Generate 10% random sample\n",
    "sampled = tweets.sample(frac=0.1, random_state=0).reset_index(drop=True)\n",
    "sampled['date'] = sampled['created_at'].apply(lambda x: x[:7])\n",
    "\n",
    "print(len(sampled))"
   ]
  },
  {
   "cell_type": "markdown",
   "id": "62829460",
   "metadata": {},
   "source": [
    "Bot testing:"
   ]
  },
  {
   "cell_type": "code",
   "execution_count": 42,
   "id": "1510b908",
   "metadata": {},
   "outputs": [
    {
     "data": {
      "text/plain": [
       "16333"
      ]
     },
     "execution_count": 42,
     "metadata": {},
     "output_type": "execute_result"
    }
   ],
   "source": [
    "sampled['screen_name'] = sampled['user'].apply(lambda x:x['screen_name'])\n",
    "len(set(sampled['screen_name']))"
   ]
  },
  {
   "cell_type": "code",
   "execution_count": 1,
   "id": "672c9ca6",
   "metadata": {},
   "outputs": [
    {
     "name": "stdout",
     "output_type": "stream",
     "text": [
      "{'cap': {'english': 0.7952555385005927, 'universal': 0.7828265255249504}, 'display_scores': {'english': {'astroturf': 0.4, 'fake_follower': 1.2, 'financial': 1.2, 'other': 1.8, 'overall': 2.0, 'self_declared': 0.0, 'spammer': 0.6}, 'universal': {'astroturf': 0.4, 'fake_follower': 0.3, 'financial': 0.6, 'other': 1.4, 'overall': 1.4, 'self_declared': 0.0, 'spammer': 0.0}}, 'raw_scores': {'english': {'astroturf': 0.07, 'fake_follower': 0.24, 'financial': 0.25, 'other': 0.35, 'overall': 0.41, 'self_declared': 0.0, 'spammer': 0.11}, 'universal': {'astroturf': 0.08, 'fake_follower': 0.06, 'financial': 0.12, 'other': 0.28, 'overall': 0.29, 'self_declared': 0.0, 'spammer': 0.01}}, 'user': {'majority_lang': 'en', 'user_data': {'id_str': '487022346', 'screen_name': 'brooke_sheltonn'}}}\n"
     ]
    }
   ],
   "source": [
    "\"\"\" Check by handle \"\"\"\n",
    "\n",
    "import botometer\n",
    "import os\n",
    "\n",
    "# Note that the config.py file must be set up with your twitter and botometer access tokens in order to run this code\n",
    "import config\n",
    "\n",
    "\n",
    "# Enter your own Twitter API access information to use this function\n",
    "twitter_app_auth = config.auth_setup()\n",
    "\n",
    "# twitter_app_auth = {\"Authorization\": \"Bearer {}\".format(BEARER_TOKEN)}\n",
    "bom = botometer.Botometer(wait_on_ratelimit=True,\n",
    "                          rapidapi_key=private_config.RapidAPI_Key,\n",
    "                          **twitter_app_auth)\n",
    "\n",
    "# Check a single account by screen name\n",
    "result = bom.check_account('brooke_sheltonn')\n",
    "print(result)"
   ]
  },
  {
   "cell_type": "markdown",
   "id": "e28628cd",
   "metadata": {},
   "source": [
    "Cleaning:"
   ]
  },
  {
   "cell_type": "code",
   "execution_count": 154,
   "id": "c59c6e52",
   "metadata": {
    "scrolled": false
   },
   "outputs": [
    {
     "name": "stderr",
     "output_type": "stream",
     "text": [
      "/l/anaconda3/lib/python3.7/site-packages/ipykernel_launcher.py:2: FutureWarning: The default value of regex will change from True to False in a future version.\n",
      "  \n",
      "/l/anaconda3/lib/python3.7/site-packages/ipykernel_launcher.py:3: FutureWarning: The default value of regex will change from True to False in a future version.\n",
      "  This is separate from the ipykernel package so we can avoid doing imports until\n",
      "/l/anaconda3/lib/python3.7/site-packages/ipykernel_launcher.py:13: FutureWarning: The default value of regex will change from True to False in a future version.\n",
      "  del sys.path[0]\n"
     ]
    },
    {
     "name": "stdout",
     "output_type": "stream",
     "text": [
      "19689\n"
     ]
    },
    {
     "name": "stderr",
     "output_type": "stream",
     "text": [
      "/l/anaconda3/lib/python3.7/site-packages/ipykernel_launcher.py:21: FutureWarning: The default value of regex will change from True to False in a future version.\n",
      "/l/anaconda3/lib/python3.7/site-packages/ipykernel_launcher.py:24: FutureWarning: The default value of regex will change from True to False in a future version.\n",
      "/l/anaconda3/lib/python3.7/site-packages/ipykernel_launcher.py:29: FutureWarning: The default value of regex will change from True to False in a future version.\n"
     ]
    },
    {
     "name": "stdout",
     "output_type": "stream",
     "text": [
      "17646\n"
     ]
    }
   ],
   "source": [
    "# remove URL\n",
    "sampled['text_proc'] = sampled['full_text'].str.replace(r'http(\\S)+', r'')\n",
    "sampled['text_proc'] = sampled['text_proc'].str.replace(r'http ...', r'')\n",
    "sampled['text_proc'] = sampled['text_proc'].str.replace(r'http', r'')\n",
    "sampled[sampled['text_proc'].str.contains(r'http')]\n",
    "\n",
    "# remove query terms\n",
    "sampled['text_proc'] = sampled['text_proc'].str.replace(r'monkey pox', r'', case=False)\n",
    "sampled['text_proc'] = sampled['text_proc'].str.replace(r'money pox', r'', case=False)\n",
    "sampled['text_proc'] = sampled['text_proc'].str.replace(r'monkeypox', r'', case=False)\n",
    "\n",
    "# remove words beginning with @ (usernames)\n",
    "sampled['text_proc'] = sampled['text_proc'].str.replace(r'@[\\S]+',r'')\n",
    "\n",
    "# remove retweets from sample\n",
    "sampled = sampled[~sampled['text_proc'].str.startswith('RT')]\n",
    "print(len(sampled))\n",
    "\n",
    "# remove non-ascii words and characters\n",
    "sampled['text_proc'] = [''.join([i if ord(i) < 128 else '' for i in text]) for text in sampled['text_proc']]\n",
    "sampled['text_proc'] = sampled['text_proc'].str.replace(r'_[\\S]?',r'')\n",
    "\n",
    "# remove &, < and >\n",
    "sampled['text_proc'] = sampled['text_proc'].str.replace(r'&amp;?',r'and')\n",
    "sampled['text_proc'] = sampled['text_proc'].str.replace(r'&lt;',r'<')\n",
    "sampled['text_proc'] = sampled['text_proc'].str.replace(r'&gt;',r'>')\n",
    "\n",
    "# remove extra space\n",
    "sampled['text_proc'] = sampled['text_proc'].str.replace(r'[ ]{2, }',r' ')\n",
    "\n",
    "# lower case and strip white spaces at both ends\n",
    "sampled['text_proc'] = sampled['text_proc'].str.lower()\n",
    "sampled['text_proc'] = sampled['text_proc'].str.strip()\n",
    "\n",
    "# calculate tweet length and remove tweets with fewer than 3 words\n",
    "sampled['text_proc_length'] = [len(text.split(' ')) for text in sampled['text_proc']]\n",
    "sampled['text_proc_length'].value_counts()\n",
    "\n",
    "sampled = sampled[sampled['text_proc_length']>3]\n",
    "sampled = sampled.drop_duplicates(subset=['text_proc'])\n",
    "\n",
    "sampled = sampled.reset_index()\n",
    "\n",
    "print(len(sampled))"
   ]
  },
  {
   "cell_type": "code",
   "execution_count": 156,
   "id": "d65912b3",
   "metadata": {},
   "outputs": [
    {
     "data": {
      "text/plain": [
       "'election time.  get the tp back on face.  i laugh watching people alone in car windows down with mask.   time.   ill pick d for dumb to solve puzzle'"
      ]
     },
     "execution_count": 156,
     "metadata": {},
     "output_type": "execute_result"
    }
   ],
   "source": [
    "sampled['text_proc'][0]"
   ]
  },
  {
   "cell_type": "code",
   "execution_count": 157,
   "id": "6b1419bc",
   "metadata": {},
   "outputs": [],
   "source": [
    "sampled.to_pickle(\"/l/mesur/aedinge/monkeypox_twitter/010sample_083022.pkl\")"
   ]
  }
 ],
 "metadata": {
  "kernelspec": {
   "display_name": "Python 3",
   "language": "python",
   "name": "python3"
  },
  "language_info": {
   "codemirror_mode": {
    "name": "ipython",
    "version": 3
   },
   "file_extension": ".py",
   "mimetype": "text/x-python",
   "name": "python",
   "nbconvert_exporter": "python",
   "pygments_lexer": "ipython3",
   "version": "3.9.13"
  }
 },
 "nbformat": 4,
 "nbformat_minor": 5
}
