{
 "cells": [
  {
   "cell_type": "code",
   "execution_count": 1,
   "metadata": {},
   "outputs": [
    {
     "ename": "ImportError",
     "evalue": "cannot import name 'OAuth2BearerHandler' from 'tweepy.auth' (/u/aedinge/.local/lib/python3.7/site-packages/tweepy/auth.py)",
     "output_type": "error",
     "traceback": [
      "\u001b[0;31m---------------------------------------------------------------------------\u001b[0m",
      "\u001b[0;31mImportError\u001b[0m                               Traceback (most recent call last)",
      "\u001b[0;32m<ipython-input-1-1ead2fb4502b>\u001b[0m in \u001b[0;36m<module>\u001b[0;34m\u001b[0m\n\u001b[0;32m----> 1\u001b[0;31m \u001b[0;32mfrom\u001b[0m \u001b[0mtweepy\u001b[0m\u001b[0;34m.\u001b[0m\u001b[0mauth\u001b[0m \u001b[0;32mimport\u001b[0m \u001b[0mOAuth2BearerHandler\u001b[0m\u001b[0;34m\u001b[0m\u001b[0;34m\u001b[0m\u001b[0m\n\u001b[0m\u001b[1;32m      2\u001b[0m \u001b[0;32mfrom\u001b[0m \u001b[0mtweepy\u001b[0m \u001b[0;32mimport\u001b[0m \u001b[0mCursor\u001b[0m\u001b[0;34m\u001b[0m\u001b[0;34m\u001b[0m\u001b[0m\n\u001b[1;32m      3\u001b[0m \u001b[0;32mfrom\u001b[0m \u001b[0mtweepy\u001b[0m \u001b[0;32mimport\u001b[0m \u001b[0mAPI\u001b[0m\u001b[0;34m\u001b[0m\u001b[0;34m\u001b[0m\u001b[0m\n\u001b[1;32m      4\u001b[0m \u001b[0;32mimport\u001b[0m \u001b[0mtweepy\u001b[0m\u001b[0;34m\u001b[0m\u001b[0;34m\u001b[0m\u001b[0m\n\u001b[1;32m      5\u001b[0m \u001b[0;32mimport\u001b[0m \u001b[0mos\u001b[0m\u001b[0;34m\u001b[0m\u001b[0;34m\u001b[0m\u001b[0m\n",
      "\u001b[0;31mImportError\u001b[0m: cannot import name 'OAuth2BearerHandler' from 'tweepy.auth' (/u/aedinge/.local/lib/python3.7/site-packages/tweepy/auth.py)"
     ]
    }
   ],
   "source": [
    "from tweepy.auth import OAuth2BearerHandler\n",
    "from tweepy import Cursor\n",
    "from tweepy import API\n",
    "import tweepy\n",
    "import os\n",
    "\n",
    "# Note that the config.py file must be set up with your twitter access tokens in order to scrape this data\n",
    "import config\n",
    "\n"
   ]
  },
  {
   "cell_type": "markdown",
   "metadata": {},
   "source": [
    "Reading list of tweet id's: 254363 tweet ids in set\n",
    "\n",
    "Cited: \n",
    "@data{DVN/CR7T5E_2022,\n",
    "author = {Thakur, Nirmalya},\n",
    "publisher = {Harvard Dataverse},\n",
    "title = {{MonkeyPox2022Tweets: The First Public Twitter Dataset on the 2022 MonkeyPox Outbreak}},\n",
    "year = {2022},\n",
    "version = {V3},\n",
    "doi = {10.7910/DVN/CR7T5E},\n",
    "url = {https://doi.org/10.7910/DVN/CR7T5E}\n",
    "}"
   ]
  },
  {
   "cell_type": "code",
   "execution_count": null,
   "metadata": {},
   "outputs": [],
   "source": [
    "BASE_PATH = \"../data/dataverse_files\"\n",
    "\n",
    "dates=[]\n",
    "tweet_ids=[]\n",
    "\n",
    "for file in os.listdir(BASE_PATH):\n",
    "    if file.endswith(\".txt\"):\n",
    "        ids = open(BASE_PATH + '/'+ file, 'r')\n",
    "        count = 0\n",
    "        date = file[:7]\n",
    "        # Strips the newline character\n",
    "        for line in ids.readlines():\n",
    "            count += 1\n",
    "            tweet_id=line.strip()\n",
    "#             print(\"Date: {}\\tLine{}: {}\".format(date, count, tweet_id))\n",
    "            dates.append(date)\n",
    "            tweet_ids.append(tweet_id)\n",
    "            \n",
    "print(len(tweet_ids))"
   ]
  },
  {
   "cell_type": "code",
   "execution_count": null,
   "metadata": {},
   "outputs": [],
   "source": [
    "BEARER_TOKEN = config.Bearer_Token\n",
    "\n",
    "auth = tweepy.OAuth2BearerHandler(BEARER_TOKEN)\n",
    "client = API(auth, wait_on_rate_limit=True)\n",
    "\n",
    "tweets = []\n",
    "\n",
    "interval = 100\n",
    "\n",
    "print_interval = 10000\n",
    "\n",
    "# for i in range(len(tweet_ids)//interval + 1):\n",
    "#     data = client.lookup_statuses(tweet_ids[i*interval : (i+1)*interval], tweet_mode=\"extended\")\n",
    "#     tweets += [i._json for i in data]\n",
    "#     if len(tweets) > print_interval:\n",
    "#         print(len(tweets),\"tweets retrieved\")\n",
    "#         print_interval += 10000\n",
    "\n",
    "\n",
    "print(\"Finished scraping:\", len(tweets), \"tweets retrieved\")"
   ]
  },
  {
   "cell_type": "code",
   "execution_count": null,
   "metadata": {},
   "outputs": [],
   "source": [
    "import json\n",
    "import bz2\n",
    "\n",
    "sfile = '../data/monkeypox_tweets_081222.bz2'\n",
    "\n",
    "# Compress JSON as BZ2 and save\n",
    "with bz2.open(sfile, \"w\") as f:\n",
    "    f.write(json.dumps(tweets).encode())\n",
    "    \n",
    "# Open bz2 and read JSON to test\n",
    "with bz2.BZ2File(sfile, 'r') as f:\n",
    "    test_read = []\n",
    "    for line in f.readlines():\n",
    "        tweets = json.loads(line.decode().strip(\"\\n\"))\n",
    "        test_read = test_read + tweets\n",
    "\n",
    "print(len(test_read), \"tweets saved and read\")"
   ]
  },
  {
   "cell_type": "markdown",
   "metadata": {},
   "source": [
    "The tweet scraping is finished with 230163 tweets saved in:\n",
    "/l/mesur/aedinge/monkeypox_tweets_081222.bz2"
   ]
  }
 ],
 "metadata": {
  "kernelspec": {
   "display_name": "Python 3",
   "language": "python",
   "name": "python3"
  },
  "language_info": {
   "codemirror_mode": {
    "name": "ipython",
    "version": 3
   },
   "file_extension": ".py",
   "mimetype": "text/x-python",
   "name": "python",
   "nbconvert_exporter": "python",
   "pygments_lexer": "ipython3",
   "version": "3.7.10"
  },
  "vscode": {
   "interpreter": {
    "hash": "54015868a28cda61386dc8f48c08f1981aeacb37f2b42a58b51bf6f8115a6f8f"
   }
  }
 },
 "nbformat": 4,
 "nbformat_minor": 2
}
