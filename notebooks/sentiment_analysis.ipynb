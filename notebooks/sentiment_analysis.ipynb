{
 "cells": [
  {
   "cell_type": "markdown",
   "id": "7b0c102b",
   "metadata": {},
   "source": [
    "Compare tweet sentiment by category"
   ]
  },
  {
   "cell_type": "code",
   "execution_count": null,
   "id": "6aba0484",
   "metadata": {},
   "outputs": [],
   "source": [
    "import sys\n",
    "import os\n",
    "\n",
    "import plotly.express as px\n",
    "import plotly.offline as pyo\n",
    "\n",
    "import numpy as np\n",
    "import pandas as pd\n",
    "pd.options.plotting.backend = \"plotly\"\n",
    "\n",
    "import os.path\n",
    "\n"
   ]
  },
  {
   "cell_type": "code",
   "execution_count": null,
   "id": "1831e003",
   "metadata": {},
   "outputs": [],
   "source": [
    "import data_config\n",
    "\n",
    "# read processed sample data\n",
    "sampled = pd.read_pickle(data_config.current_sample_sf)\n",
    "print(sampled.columns)\n",
    "\n",
    "color_map_l = data_config.color_map_l\n",
    "print(color_map_l)\n"
   ]
  },
  {
   "cell_type": "code",
   "execution_count": null,
   "id": "3fa66fd8",
   "metadata": {},
   "outputs": [],
   "source": [
    "import nltk\n",
    "nltk.download('vader_lexicon')\n",
    "from nltk.sentiment.vader import SentimentIntensityAnalyzer\n",
    "\n",
    "analyzer = SentimentIntensityAnalyzer()\n",
    "\n",
    "analyzer.polarity_scores(\"i hate love love tests\")\n",
    "\n",
    "sampled['vader'] = sampled['text_proc'].apply(lambda x: analyzer.polarity_scores(x)['compound'])\n",
    "sampled['vader_pos'] = sampled['text_proc'].apply(lambda x: analyzer.polarity_scores(x)['pos'])\n",
    "sampled['vader_neg'] = sampled['text_proc'].apply(lambda x: analyzer.polarity_scores(x)['neg'])\n"
   ]
  },
  {
   "cell_type": "code",
   "execution_count": null,
   "id": "a5548193",
   "metadata": {},
   "outputs": [],
   "source": [
    "fig = px.histogram(sampled[((sampled['vader']!=0) & ((sampled['vader'] < -0.4) | (sampled['vader'] > -0.35)))],\n",
    "# fig = px.histogram(sampled[sampled['vader']!=0],\n",
    "                   x=\"vader\", \n",
    "                   color=\"label\",\n",
    "                   opacity=0.9,\n",
    "                   facet_col=\"label\",\n",
    "                   facet_col_wrap=2,\n",
    "                   color_discrete_map=color_map_l,\n",
    "                   histnorm='probability',\n",
    "                   title = \"Topic VADER Compound Score Distributions\"\n",
    "                  )\n",
    "\n",
    "fig.update_layout(\n",
    "    autosize=False,\n",
    "    width=900,\n",
    "    height=900,\n",
    ")\n",
    "\n",
    "fig.update_layout({\n",
    "        'plot_bgcolor': 'rgba(0, 0, 0, 0)',\n",
    "        'paper_bgcolor': 'rgba(0, 0, 0, 0)',\n",
    "})\n",
    "\n",
    "fig.for_each_annotation(lambda a: a.update(text=a.text.split(\"=\")[-1]))\n",
    "fig.update(layout_showlegend=False)\n",
    "\n",
    "fig.show()"
   ]
  },
  {
   "cell_type": "code",
   "execution_count": null,
   "id": "3e8b74fa",
   "metadata": {},
   "outputs": [],
   "source": [
    "analyzer.polarity_scores(\"WHO declares monkeypox a global emergency\")"
   ]
  },
  {
   "cell_type": "code",
   "execution_count": null,
   "id": "577b19c4",
   "metadata": {},
   "outputs": [],
   "source": [
    "analyzer.polarity_scores(\"recovery\")"
   ]
  },
  {
   "cell_type": "code",
   "execution_count": null,
   "id": "c8166c4f",
   "metadata": {},
   "outputs": [],
   "source": [
    "fig = px.histogram(sampled[sampled['vader_pos']!=0].sort_values(by=\"label\"), \n",
    "                   x=\"vader_pos\", \n",
    "                   color=\"label\",\n",
    "                   opacity=0.9,\n",
    "                   facet_col=\"label\",\n",
    "                   facet_col_wrap=2,\n",
    "                   color_discrete_map=color_map_l,\n",
    "                   title = \"Topic VADER Positive Score Distributions\",\n",
    "                   histnorm='probability'\n",
    "                  )\n",
    "\n",
    "fig.update_layout(\n",
    "    autosize=False,\n",
    "    width=900,\n",
    "    height=900,\n",
    ")\n",
    "\n",
    "fig.update_layout({\n",
    "        'plot_bgcolor': 'rgba(0, 0, 0, 0)',\n",
    "        'paper_bgcolor': 'rgba(0, 0, 0, 0)',\n",
    "})\n",
    "\n",
    "fig.for_each_annotation(lambda a: a.update(text=a.text.split(\"=\")[-1]))\n",
    "fig.update(layout_showlegend=False)\n",
    "\n",
    "fig.show()"
   ]
  },
  {
   "cell_type": "code",
   "execution_count": null,
   "id": "05fe6588",
   "metadata": {},
   "outputs": [],
   "source": [
    "fig = px.histogram(sampled[sampled['vader_neg']!=0].sort_values(by=\"label\"), \n",
    "                   x=\"vader_neg\", \n",
    "                   color=\"label\",\n",
    "                   opacity=0.9,\n",
    "                   facet_col=\"label\",\n",
    "                   facet_col_wrap=2,\n",
    "                   color_discrete_map=color_map_l,\n",
    "                   title = \"Topic VADER Negative Score Distributions\",\n",
    "                   histnorm='probability'\n",
    "                  )\n",
    "\n",
    "fig.update_layout(\n",
    "    autosize=False,\n",
    "    width=900,\n",
    "    height=900,\n",
    ")\n",
    "\n",
    "fig.update_layout({\n",
    "        'plot_bgcolor': 'rgba(0, 0, 0, 0)',\n",
    "        'paper_bgcolor': 'rgba(0, 0, 0, 0)',\n",
    "})\n",
    "\n",
    "fig.for_each_annotation(lambda a: a.update(text=a.text.split(\"=\")[-1]))\n",
    "fig.update(layout_showlegend=False)\n",
    "\n",
    "fig.show()"
   ]
  }
 ],
 "metadata": {
  "kernelspec": {
   "display_name": "Python 3",
   "language": "python",
   "name": "python3"
  },
  "language_info": {
   "codemirror_mode": {
    "name": "ipython",
    "version": 3
   },
   "file_extension": ".py",
   "mimetype": "text/x-python",
   "name": "python",
   "nbconvert_exporter": "python",
   "pygments_lexer": "ipython3",
   "version": "3.7.10"
  }
 },
 "nbformat": 4,
 "nbformat_minor": 5
}
